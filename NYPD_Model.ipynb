{
 "cells": [
  {
   "cell_type": "markdown",
   "metadata": {},
   "source": [
    "# Code"
   ]
  },
  {
   "cell_type": "code",
   "execution_count": 2,
   "metadata": {},
   "outputs": [],
   "source": [
    "import matplotlib.pyplot as plt\n",
    "import numpy as np\n",
    "import os\n",
    "import pandas as pd\n",
    "import seaborn as sns\n",
    "%matplotlib inline\n",
    "%config InlineBackend.figure_format = 'retina'  # Higher resolution figures"
   ]
  },
  {
   "cell_type": "markdown",
   "metadata": {},
   "source": [
    "In this section I will be importing and cleaning up the data in order to create my model"
   ]
  },
  {
   "cell_type": "code",
   "execution_count": 18,
   "metadata": {},
   "outputs": [
    {
     "data": {
      "text/html": [
       "<div>\n",
       "<style scoped>\n",
       "    .dataframe tbody tr th:only-of-type {\n",
       "        vertical-align: middle;\n",
       "    }\n",
       "\n",
       "    .dataframe tbody tr th {\n",
       "        vertical-align: top;\n",
       "    }\n",
       "\n",
       "    .dataframe thead th {\n",
       "        text-align: right;\n",
       "    }\n",
       "</style>\n",
       "<table border=\"1\" class=\"dataframe\">\n",
       "  <thead>\n",
       "    <tr style=\"text-align: right;\">\n",
       "      <th></th>\n",
       "      <th>unique_mos_id</th>\n",
       "      <th>first_name</th>\n",
       "      <th>last_name</th>\n",
       "      <th>command_now</th>\n",
       "      <th>shield_no</th>\n",
       "      <th>complaint_id</th>\n",
       "      <th>month_received</th>\n",
       "      <th>year_received</th>\n",
       "      <th>month_closed</th>\n",
       "      <th>year_closed</th>\n",
       "      <th>...</th>\n",
       "      <th>mos_age_incident</th>\n",
       "      <th>complainant_ethnicity</th>\n",
       "      <th>complainant_gender</th>\n",
       "      <th>complainant_age_incident</th>\n",
       "      <th>fado_type</th>\n",
       "      <th>allegation</th>\n",
       "      <th>precinct</th>\n",
       "      <th>contact_reason</th>\n",
       "      <th>outcome_description</th>\n",
       "      <th>board_disposition</th>\n",
       "    </tr>\n",
       "  </thead>\n",
       "  <tbody>\n",
       "    <tr>\n",
       "      <th>0</th>\n",
       "      <td>10004</td>\n",
       "      <td>Jonathan</td>\n",
       "      <td>Ruiz</td>\n",
       "      <td>078 PCT</td>\n",
       "      <td>8409</td>\n",
       "      <td>42835</td>\n",
       "      <td>7</td>\n",
       "      <td>2019</td>\n",
       "      <td>5</td>\n",
       "      <td>2020</td>\n",
       "      <td>...</td>\n",
       "      <td>32</td>\n",
       "      <td>Black</td>\n",
       "      <td>Female</td>\n",
       "      <td>38.0</td>\n",
       "      <td>Abuse of Authority</td>\n",
       "      <td>Failure to provide RTKA card</td>\n",
       "      <td>78.0</td>\n",
       "      <td>Report-domestic dispute</td>\n",
       "      <td>No arrest made or summons issued</td>\n",
       "      <td>Substantiated (Command Lvl Instructions)</td>\n",
       "    </tr>\n",
       "    <tr>\n",
       "      <th>1</th>\n",
       "      <td>10007</td>\n",
       "      <td>John</td>\n",
       "      <td>Sears</td>\n",
       "      <td>078 PCT</td>\n",
       "      <td>5952</td>\n",
       "      <td>24601</td>\n",
       "      <td>11</td>\n",
       "      <td>2011</td>\n",
       "      <td>8</td>\n",
       "      <td>2012</td>\n",
       "      <td>...</td>\n",
       "      <td>24</td>\n",
       "      <td>Black</td>\n",
       "      <td>Male</td>\n",
       "      <td>26.0</td>\n",
       "      <td>Discourtesy</td>\n",
       "      <td>Action</td>\n",
       "      <td>67.0</td>\n",
       "      <td>Moving violation</td>\n",
       "      <td>Moving violation summons issued</td>\n",
       "      <td>Substantiated (Charges)</td>\n",
       "    </tr>\n",
       "    <tr>\n",
       "      <th>2</th>\n",
       "      <td>10007</td>\n",
       "      <td>John</td>\n",
       "      <td>Sears</td>\n",
       "      <td>078 PCT</td>\n",
       "      <td>5952</td>\n",
       "      <td>24601</td>\n",
       "      <td>11</td>\n",
       "      <td>2011</td>\n",
       "      <td>8</td>\n",
       "      <td>2012</td>\n",
       "      <td>...</td>\n",
       "      <td>24</td>\n",
       "      <td>Black</td>\n",
       "      <td>Male</td>\n",
       "      <td>26.0</td>\n",
       "      <td>Offensive Language</td>\n",
       "      <td>Race</td>\n",
       "      <td>67.0</td>\n",
       "      <td>Moving violation</td>\n",
       "      <td>Moving violation summons issued</td>\n",
       "      <td>Substantiated (Charges)</td>\n",
       "    </tr>\n",
       "    <tr>\n",
       "      <th>3</th>\n",
       "      <td>10007</td>\n",
       "      <td>John</td>\n",
       "      <td>Sears</td>\n",
       "      <td>078 PCT</td>\n",
       "      <td>5952</td>\n",
       "      <td>26146</td>\n",
       "      <td>7</td>\n",
       "      <td>2012</td>\n",
       "      <td>9</td>\n",
       "      <td>2013</td>\n",
       "      <td>...</td>\n",
       "      <td>25</td>\n",
       "      <td>Black</td>\n",
       "      <td>Male</td>\n",
       "      <td>45.0</td>\n",
       "      <td>Abuse of Authority</td>\n",
       "      <td>Question</td>\n",
       "      <td>67.0</td>\n",
       "      <td>PD suspected C/V of violation/crime - street</td>\n",
       "      <td>No arrest made or summons issued</td>\n",
       "      <td>Substantiated (Charges)</td>\n",
       "    </tr>\n",
       "    <tr>\n",
       "      <th>4</th>\n",
       "      <td>10009</td>\n",
       "      <td>Noemi</td>\n",
       "      <td>Sierra</td>\n",
       "      <td>078 PCT</td>\n",
       "      <td>24058</td>\n",
       "      <td>40253</td>\n",
       "      <td>8</td>\n",
       "      <td>2018</td>\n",
       "      <td>2</td>\n",
       "      <td>2019</td>\n",
       "      <td>...</td>\n",
       "      <td>39</td>\n",
       "      <td>NaN</td>\n",
       "      <td>NaN</td>\n",
       "      <td>16.0</td>\n",
       "      <td>Force</td>\n",
       "      <td>Physical force</td>\n",
       "      <td>67.0</td>\n",
       "      <td>Report-dispute</td>\n",
       "      <td>Arrest - other violation/crime</td>\n",
       "      <td>Substantiated (Command Discipline A)</td>\n",
       "    </tr>\n",
       "    <tr>\n",
       "      <th>...</th>\n",
       "      <td>...</td>\n",
       "      <td>...</td>\n",
       "      <td>...</td>\n",
       "      <td>...</td>\n",
       "      <td>...</td>\n",
       "      <td>...</td>\n",
       "      <td>...</td>\n",
       "      <td>...</td>\n",
       "      <td>...</td>\n",
       "      <td>...</td>\n",
       "      <td>...</td>\n",
       "      <td>...</td>\n",
       "      <td>...</td>\n",
       "      <td>...</td>\n",
       "      <td>...</td>\n",
       "      <td>...</td>\n",
       "      <td>...</td>\n",
       "      <td>...</td>\n",
       "      <td>...</td>\n",
       "      <td>...</td>\n",
       "      <td>...</td>\n",
       "    </tr>\n",
       "    <tr>\n",
       "      <th>33353</th>\n",
       "      <td>9992</td>\n",
       "      <td>Tomasz</td>\n",
       "      <td>Pulawski</td>\n",
       "      <td>078 PCT</td>\n",
       "      <td>2642</td>\n",
       "      <td>35671</td>\n",
       "      <td>8</td>\n",
       "      <td>2016</td>\n",
       "      <td>2</td>\n",
       "      <td>2017</td>\n",
       "      <td>...</td>\n",
       "      <td>36</td>\n",
       "      <td>Asian</td>\n",
       "      <td>Male</td>\n",
       "      <td>21.0</td>\n",
       "      <td>Discourtesy</td>\n",
       "      <td>Word</td>\n",
       "      <td>66.0</td>\n",
       "      <td>Moving violation</td>\n",
       "      <td>Moving violation summons issued</td>\n",
       "      <td>Unsubstantiated</td>\n",
       "    </tr>\n",
       "    <tr>\n",
       "      <th>33354</th>\n",
       "      <td>9992</td>\n",
       "      <td>Tomasz</td>\n",
       "      <td>Pulawski</td>\n",
       "      <td>078 PCT</td>\n",
       "      <td>2642</td>\n",
       "      <td>35671</td>\n",
       "      <td>8</td>\n",
       "      <td>2016</td>\n",
       "      <td>2</td>\n",
       "      <td>2017</td>\n",
       "      <td>...</td>\n",
       "      <td>36</td>\n",
       "      <td>Asian</td>\n",
       "      <td>Male</td>\n",
       "      <td>21.0</td>\n",
       "      <td>Abuse of Authority</td>\n",
       "      <td>Interference with recording</td>\n",
       "      <td>66.0</td>\n",
       "      <td>Moving violation</td>\n",
       "      <td>Moving violation summons issued</td>\n",
       "      <td>Unsubstantiated</td>\n",
       "    </tr>\n",
       "    <tr>\n",
       "      <th>33355</th>\n",
       "      <td>9992</td>\n",
       "      <td>Tomasz</td>\n",
       "      <td>Pulawski</td>\n",
       "      <td>078 PCT</td>\n",
       "      <td>2642</td>\n",
       "      <td>35671</td>\n",
       "      <td>8</td>\n",
       "      <td>2016</td>\n",
       "      <td>2</td>\n",
       "      <td>2017</td>\n",
       "      <td>...</td>\n",
       "      <td>36</td>\n",
       "      <td>Asian</td>\n",
       "      <td>Male</td>\n",
       "      <td>21.0</td>\n",
       "      <td>Abuse of Authority</td>\n",
       "      <td>Search (of person)</td>\n",
       "      <td>66.0</td>\n",
       "      <td>Moving violation</td>\n",
       "      <td>Moving violation summons issued</td>\n",
       "      <td>Substantiated (Formalized Training)</td>\n",
       "    </tr>\n",
       "    <tr>\n",
       "      <th>33356</th>\n",
       "      <td>9992</td>\n",
       "      <td>Tomasz</td>\n",
       "      <td>Pulawski</td>\n",
       "      <td>078 PCT</td>\n",
       "      <td>2642</td>\n",
       "      <td>35671</td>\n",
       "      <td>8</td>\n",
       "      <td>2016</td>\n",
       "      <td>2</td>\n",
       "      <td>2017</td>\n",
       "      <td>...</td>\n",
       "      <td>36</td>\n",
       "      <td>Asian</td>\n",
       "      <td>Male</td>\n",
       "      <td>21.0</td>\n",
       "      <td>Abuse of Authority</td>\n",
       "      <td>Vehicle search</td>\n",
       "      <td>66.0</td>\n",
       "      <td>Moving violation</td>\n",
       "      <td>Moving violation summons issued</td>\n",
       "      <td>Substantiated (Formalized Training)</td>\n",
       "    </tr>\n",
       "    <tr>\n",
       "      <th>33357</th>\n",
       "      <td>9992</td>\n",
       "      <td>Tomasz</td>\n",
       "      <td>Pulawski</td>\n",
       "      <td>078 PCT</td>\n",
       "      <td>2642</td>\n",
       "      <td>35671</td>\n",
       "      <td>8</td>\n",
       "      <td>2016</td>\n",
       "      <td>2</td>\n",
       "      <td>2017</td>\n",
       "      <td>...</td>\n",
       "      <td>36</td>\n",
       "      <td>Asian</td>\n",
       "      <td>Male</td>\n",
       "      <td>21.0</td>\n",
       "      <td>Abuse of Authority</td>\n",
       "      <td>Frisk</td>\n",
       "      <td>66.0</td>\n",
       "      <td>Moving violation</td>\n",
       "      <td>Moving violation summons issued</td>\n",
       "      <td>Substantiated (Formalized Training)</td>\n",
       "    </tr>\n",
       "  </tbody>\n",
       "</table>\n",
       "<p>33358 rows × 27 columns</p>\n",
       "</div>"
      ],
      "text/plain": [
       "       unique_mos_id first_name last_name command_now  shield_no  \\\n",
       "0              10004   Jonathan      Ruiz     078 PCT       8409   \n",
       "1              10007       John     Sears     078 PCT       5952   \n",
       "2              10007       John     Sears     078 PCT       5952   \n",
       "3              10007       John     Sears     078 PCT       5952   \n",
       "4              10009      Noemi    Sierra     078 PCT      24058   \n",
       "...              ...        ...       ...         ...        ...   \n",
       "33353           9992     Tomasz  Pulawski     078 PCT       2642   \n",
       "33354           9992     Tomasz  Pulawski     078 PCT       2642   \n",
       "33355           9992     Tomasz  Pulawski     078 PCT       2642   \n",
       "33356           9992     Tomasz  Pulawski     078 PCT       2642   \n",
       "33357           9992     Tomasz  Pulawski     078 PCT       2642   \n",
       "\n",
       "       complaint_id  month_received  year_received  month_closed  year_closed  \\\n",
       "0             42835               7           2019             5         2020   \n",
       "1             24601              11           2011             8         2012   \n",
       "2             24601              11           2011             8         2012   \n",
       "3             26146               7           2012             9         2013   \n",
       "4             40253               8           2018             2         2019   \n",
       "...             ...             ...            ...           ...          ...   \n",
       "33353         35671               8           2016             2         2017   \n",
       "33354         35671               8           2016             2         2017   \n",
       "33355         35671               8           2016             2         2017   \n",
       "33356         35671               8           2016             2         2017   \n",
       "33357         35671               8           2016             2         2017   \n",
       "\n",
       "       ... mos_age_incident complainant_ethnicity complainant_gender  \\\n",
       "0      ...               32                 Black             Female   \n",
       "1      ...               24                 Black               Male   \n",
       "2      ...               24                 Black               Male   \n",
       "3      ...               25                 Black               Male   \n",
       "4      ...               39                   NaN                NaN   \n",
       "...    ...              ...                   ...                ...   \n",
       "33353  ...               36                 Asian               Male   \n",
       "33354  ...               36                 Asian               Male   \n",
       "33355  ...               36                 Asian               Male   \n",
       "33356  ...               36                 Asian               Male   \n",
       "33357  ...               36                 Asian               Male   \n",
       "\n",
       "      complainant_age_incident           fado_type  \\\n",
       "0                         38.0  Abuse of Authority   \n",
       "1                         26.0         Discourtesy   \n",
       "2                         26.0  Offensive Language   \n",
       "3                         45.0  Abuse of Authority   \n",
       "4                         16.0               Force   \n",
       "...                        ...                 ...   \n",
       "33353                     21.0         Discourtesy   \n",
       "33354                     21.0  Abuse of Authority   \n",
       "33355                     21.0  Abuse of Authority   \n",
       "33356                     21.0  Abuse of Authority   \n",
       "33357                     21.0  Abuse of Authority   \n",
       "\n",
       "                         allegation precinct  \\\n",
       "0      Failure to provide RTKA card     78.0   \n",
       "1                            Action     67.0   \n",
       "2                              Race     67.0   \n",
       "3                          Question     67.0   \n",
       "4                    Physical force     67.0   \n",
       "...                             ...      ...   \n",
       "33353                          Word     66.0   \n",
       "33354   Interference with recording     66.0   \n",
       "33355            Search (of person)     66.0   \n",
       "33356                Vehicle search     66.0   \n",
       "33357                         Frisk     66.0   \n",
       "\n",
       "                                     contact_reason  \\\n",
       "0                           Report-domestic dispute   \n",
       "1                                  Moving violation   \n",
       "2                                  Moving violation   \n",
       "3      PD suspected C/V of violation/crime - street   \n",
       "4                                    Report-dispute   \n",
       "...                                             ...   \n",
       "33353                              Moving violation   \n",
       "33354                              Moving violation   \n",
       "33355                              Moving violation   \n",
       "33356                              Moving violation   \n",
       "33357                              Moving violation   \n",
       "\n",
       "                    outcome_description  \\\n",
       "0      No arrest made or summons issued   \n",
       "1       Moving violation summons issued   \n",
       "2       Moving violation summons issued   \n",
       "3      No arrest made or summons issued   \n",
       "4        Arrest - other violation/crime   \n",
       "...                                 ...   \n",
       "33353   Moving violation summons issued   \n",
       "33354   Moving violation summons issued   \n",
       "33355   Moving violation summons issued   \n",
       "33356   Moving violation summons issued   \n",
       "33357   Moving violation summons issued   \n",
       "\n",
       "                              board_disposition  \n",
       "0      Substantiated (Command Lvl Instructions)  \n",
       "1                       Substantiated (Charges)  \n",
       "2                       Substantiated (Charges)  \n",
       "3                       Substantiated (Charges)  \n",
       "4          Substantiated (Command Discipline A)  \n",
       "...                                         ...  \n",
       "33353                           Unsubstantiated  \n",
       "33354                           Unsubstantiated  \n",
       "33355       Substantiated (Formalized Training)  \n",
       "33356       Substantiated (Formalized Training)  \n",
       "33357       Substantiated (Formalized Training)  \n",
       "\n",
       "[33358 rows x 27 columns]"
      ]
     },
     "execution_count": 18,
     "metadata": {},
     "output_type": "execute_result"
    }
   ],
   "source": [
    "#importing data\n",
    "df = pd.read_csv('allegations_202007271729.csv')\n",
    "df"
   ]
  },
  {
   "cell_type": "code",
   "execution_count": 477,
   "metadata": {},
   "outputs": [],
   "source": [
    "# replacing Unknowns with NaN\n",
    "police_data['complainant_ethnicity']= (police_data['complainant_ethnicity']\n",
    "                                       .apply(lambda x: np.NaN if x =='Unknown'else x))"
   ]
  },
  {
   "cell_type": "code",
   "execution_count": 478,
   "metadata": {},
   "outputs": [],
   "source": [
    "#replacing 'missing' values with NaN\n",
    "police_data['complainant_age_incident'] = (police_data['complainant_age_incident']\n",
    "                                           .apply(lambda x: np.NaN if x==0.0 or x==-4301.0 or x== -1.0 else x))"
   ]
  },
  {
   "cell_type": "markdown",
   "metadata": {},
   "source": [
    "### Baseline Model"
   ]
  },
  {
   "cell_type": "code",
   "execution_count": 479,
   "metadata": {},
   "outputs": [],
   "source": [
    "# importing sklearn functions\n",
    "from sklearn.linear_model import LinearRegression\n",
    "from sklearn.model_selection import train_test_split \n",
    "from sklearn.pipeline import Pipeline\n",
    "from sklearn.preprocessing import OneHotEncoder, FunctionTransformer\n",
    "from sklearn.compose import ColumnTransformer"
   ]
  },
  {
   "cell_type": "markdown",
   "metadata": {},
   "source": [
    "The purpose of my linear regression model will be to predict the amount of time a complaint remains open from the month the report was received to the month the investigation was closed. I will be using the following features to create my linear regression model: age of complainant, gender of complainant, ethnicity of the complainant and reported officer, the year the report was received and the type of infraction that was reported. I will be using R^2 to determine whether or not the model is good."
   ]
  },
  {
   "cell_type": "code",
   "execution_count": 480,
   "metadata": {},
   "outputs": [],
   "source": [
    "# calculating number of months taken to resolve complaint\n",
    "months_apart = (\n",
    "    ((police_data['year_closed'] - police_data['year_received'])*12 - \n",
    "                police_data['month_received']) + police_data['month_closed']\n",
    ")\n",
    "police_data = police_data.assign(months_apart = months_apart)"
   ]
  },
  {
   "cell_type": "code",
   "execution_count": 481,
   "metadata": {},
   "outputs": [],
   "source": [
    "# Numerical Variables\n",
    "numcols = ['complainant_age_incident','year_received']\n",
    "# Categorical Variables\n",
    "catcols = ['complainant_ethnicity', 'complainant_gender', 'mos_ethnicity','fado_type']"
   ]
  },
  {
   "cell_type": "code",
   "execution_count": 482,
   "metadata": {},
   "outputs": [],
   "source": [
    "# One hot encoding categorical variables and leaving numerical varabiles as is\n",
    "ct = ColumnTransformer(transformers = [('ohe', OneHotEncoder(), catcols), ('num', FunctionTransformer(lambda x:x), numcols)])\n",
    "pl = Pipeline(steps = [('preproc',ct),('lr',LinearRegression())])"
   ]
  },
  {
   "cell_type": "code",
   "execution_count": 483,
   "metadata": {},
   "outputs": [],
   "source": [
    "# selecting necessary columns from dataframe\n",
    "train_df = (police_data[['complainant_ethnicity', 'complainant_gender', 'mos_ethnicity','complainant_age_incident',\n",
    "                         'fado_type','year_received','months_apart']].dropna())\n",
    "#Splitting data into training set and test set\n",
    "X_train, X_test, y_train, y_test = train_test_split(train_df.drop('months_apart',axis=1),train_df.months_apart)"
   ]
  },
  {
   "cell_type": "code",
   "execution_count": 484,
   "metadata": {},
   "outputs": [
    {
     "data": {
      "text/plain": [
       "0.0665559399187462"
      ]
     },
     "execution_count": 484,
     "metadata": {},
     "output_type": "execute_result"
    }
   ],
   "source": [
    "# Fitting model with training data\n",
    "pl.fit(X_train,y_train)\n",
    "# Obtaining R^2 of test set\n",
    "pl.score(X_test,y_test)"
   ]
  },
  {
   "cell_type": "markdown",
   "metadata": {},
   "source": [
    "As we can see above, the R^2 of my model is about 0.067, which means that only about 6.7% of the variance in the amount of months a case is resolved is dependent on the features I selected. This most likely means that the features I selected do not  have a large impact on the amount of time nedeed to resolve a case. In the following section I will try to improve my baseline model in order to make more accurate predictions and achieve a higher R^2 by creating new features."
   ]
  },
  {
   "cell_type": "markdown",
   "metadata": {},
   "source": [
    "### Final Model"
   ]
  },
  {
   "cell_type": "code",
   "execution_count": 485,
   "metadata": {},
   "outputs": [],
   "source": [
    "# Importing sklearn function for modeling\n",
    "from sklearn.preprocessing import StandardScaler\n",
    "from sklearn.decomposition import PCA\n",
    "from sklearn.model_selection import GridSearchCV"
   ]
  },
  {
   "cell_type": "markdown",
   "metadata": {},
   "source": [
    "In this section I will try to improve upon my baseline model by creating new features such as whether or not the complainant and officer were the same ethnicity, whether or not the complainant was a male and standardizing the year and age columns. Additionally, I will also account for multicollinearity by using principal component analysis to get rid of unneeded features."
   ]
  },
  {
   "cell_type": "code",
   "execution_count": 486,
   "metadata": {},
   "outputs": [],
   "source": [
    "# Creating new variables\n",
    "train_df = train_df.assign(same_ethnicity = (train_df['mos_ethnicity'] == train_df['complainant_ethnicity']).astype(int),\n",
    "                          is_male = (train_df['complainant_gender'] == 'Male').astype(int))"
   ]
  },
  {
   "cell_type": "code",
   "execution_count": 487,
   "metadata": {},
   "outputs": [],
   "source": [
    "# Creating new dataframe, dropping columns used to create new features in previous step in order to prevent multicollinearity\n",
    "final_df = train_df.drop(['mos_ethnicity', 'complainant_ethnicity', 'complainant_gender'], axis=1)\n",
    "X_train, X_test, y_train, y_test = train_test_split(final_df.drop('months_apart',axis=1), final_df.months_apart)"
   ]
  },
  {
   "cell_type": "code",
   "execution_count": 488,
   "metadata": {},
   "outputs": [],
   "source": [
    "# Numerical variables\n",
    "numcols = ['year_received', 'complainant_age_incident']\n",
    "# Categorical Variables\n",
    "catcols = ['fado_type']"
   ]
  },
  {
   "cell_type": "code",
   "execution_count": 489,
   "metadata": {},
   "outputs": [],
   "source": [
    "# PCA to get take care of Multicollinearity, n_components obtained from steps below\n",
    "cats = Pipeline([\n",
    "    ('ohe', OneHotEncoder(sparse=False)),\n",
    "    ('pca', PCA(svd_solver='full',n_components=3))\n",
    "])"
   ]
  },
  {
   "cell_type": "code",
   "execution_count": 490,
   "metadata": {},
   "outputs": [],
   "source": [
    "# Transforming columns\n",
    "ct = ColumnTransformer(transformers = [('cat', cats, catcols),\n",
    "                                       ('std',StandardScaler(),numcols),\n",
    "                                       ('binary',FunctionTransformer(lambda x:x),['same_ethnicity','is_male'])\n",
    "                                      ])\n",
    "# Final Model Pipeline\n",
    "pp = Pipeline(steps = [('preproc',ct), \n",
    "                       ('lr',LinearRegression()) \n",
    "                      ])"
   ]
  },
  {
   "cell_type": "code",
   "execution_count": 491,
   "metadata": {},
   "outputs": [],
   "source": [
    "# Searching for necessary components to keep in pca, using 1-4 since fado_type only has 4 unique values\n",
    "params = {'preproc__cat__pca__n_components':[1,2,3,4]}\n",
    "# Performing GridSearchCV on pipeline to find necessary components of one hot encoded columns to keep\n",
    "grids = GridSearchCV(pp,param_grid=params,cv=5)"
   ]
  },
  {
   "cell_type": "code",
   "execution_count": 492,
   "metadata": {},
   "outputs": [
    {
     "data": {
      "text/plain": [
       "{'preproc__cat__pca__n_components': 3}"
      ]
     },
     "execution_count": 492,
     "metadata": {},
     "output_type": "execute_result"
    }
   ],
   "source": [
    "grids.fit(X_train,y_train)\n",
    "grids.best_params_"
   ]
  },
  {
   "cell_type": "code",
   "execution_count": 493,
   "metadata": {},
   "outputs": [
    {
     "data": {
      "text/plain": [
       "0.07142600219987949"
      ]
     },
     "execution_count": 493,
     "metadata": {},
     "output_type": "execute_result"
    }
   ],
   "source": [
    "# Fitting training data\n",
    "pp.fit(X_train,y_train)\n",
    "# Obtaining R^2\n",
    "pp.score(X_test,y_test)"
   ]
  },
  {
   "cell_type": "markdown",
   "metadata": {},
   "source": [
    "As we can see above our R^2 is about .071, which means that only about 7.1% of the variance in months_apart is explained by the parameters I chose. This means that the new features I created did not have a large effect on the R^2. Although I obtained a higher R^2, the difference is very minimal and most likely due to sampling variability in the training and testing sets. All in all, my final model did not really improve upon the baseline model, which most likely means that in order to obtain a higher R^2 I will need to use other completely unique features. "
   ]
  },
  {
   "cell_type": "markdown",
   "metadata": {},
   "source": [
    "### Fairness Evaluation"
   ]
  },
  {
   "cell_type": "markdown",
   "metadata": {},
   "source": [
    "For my fairness evaluation I will be testing whether my final model is fairer for younger or older people. First I will assign everyone a binary variable representing whether or not they are older than 40. Then, I will obtain the difference between the  R^2's of the young and old subset using my final model. After obtaining the observed difference, I will perform a permutation test in which I shuffle the new binary variable and calculate the differences in R^2 between the new \"old\" and \"young\" groups. I will test the following hypotheses:\n",
    "\n",
    "H_0: The model is fair,  the R^2 for the two subsets are roughly the same\n",
    "\n",
    "H_1: The model is not fair, the R^2 for the two subsets are not the same\n",
    "\n",
    "I will use a 1% significance level."
   ]
  },
  {
   "cell_type": "code",
   "execution_count": 494,
   "metadata": {},
   "outputs": [
    {
     "data": {
      "text/html": [
       "<div>\n",
       "<style scoped>\n",
       "    .dataframe tbody tr th:only-of-type {\n",
       "        vertical-align: middle;\n",
       "    }\n",
       "\n",
       "    .dataframe tbody tr th {\n",
       "        vertical-align: top;\n",
       "    }\n",
       "\n",
       "    .dataframe thead th {\n",
       "        text-align: right;\n",
       "    }\n",
       "</style>\n",
       "<table border=\"1\" class=\"dataframe\">\n",
       "  <thead>\n",
       "    <tr style=\"text-align: right;\">\n",
       "      <th></th>\n",
       "      <th>complainant_age_incident</th>\n",
       "      <th>fado_type</th>\n",
       "      <th>year_received</th>\n",
       "      <th>months_apart</th>\n",
       "      <th>same_ethnicity</th>\n",
       "      <th>is_male</th>\n",
       "      <th>is_old</th>\n",
       "    </tr>\n",
       "  </thead>\n",
       "  <tbody>\n",
       "    <tr>\n",
       "      <th>0</th>\n",
       "      <td>38.0</td>\n",
       "      <td>Abuse of Authority</td>\n",
       "      <td>2019</td>\n",
       "      <td>10</td>\n",
       "      <td>0</td>\n",
       "      <td>0</td>\n",
       "      <td>0.0</td>\n",
       "    </tr>\n",
       "    <tr>\n",
       "      <th>1</th>\n",
       "      <td>26.0</td>\n",
       "      <td>Discourtesy</td>\n",
       "      <td>2011</td>\n",
       "      <td>9</td>\n",
       "      <td>0</td>\n",
       "      <td>1</td>\n",
       "      <td>0.0</td>\n",
       "    </tr>\n",
       "    <tr>\n",
       "      <th>2</th>\n",
       "      <td>26.0</td>\n",
       "      <td>Offensive Language</td>\n",
       "      <td>2011</td>\n",
       "      <td>9</td>\n",
       "      <td>0</td>\n",
       "      <td>1</td>\n",
       "      <td>0.0</td>\n",
       "    </tr>\n",
       "    <tr>\n",
       "      <th>3</th>\n",
       "      <td>45.0</td>\n",
       "      <td>Abuse of Authority</td>\n",
       "      <td>2012</td>\n",
       "      <td>14</td>\n",
       "      <td>0</td>\n",
       "      <td>1</td>\n",
       "      <td>1.0</td>\n",
       "    </tr>\n",
       "    <tr>\n",
       "      <th>5</th>\n",
       "      <td>31.0</td>\n",
       "      <td>Abuse of Authority</td>\n",
       "      <td>2017</td>\n",
       "      <td>5</td>\n",
       "      <td>0</td>\n",
       "      <td>1</td>\n",
       "      <td>0.0</td>\n",
       "    </tr>\n",
       "  </tbody>\n",
       "</table>\n",
       "</div>"
      ],
      "text/plain": [
       "   complainant_age_incident           fado_type  year_received  months_apart  \\\n",
       "0                      38.0  Abuse of Authority           2019            10   \n",
       "1                      26.0         Discourtesy           2011             9   \n",
       "2                      26.0  Offensive Language           2011             9   \n",
       "3                      45.0  Abuse of Authority           2012            14   \n",
       "5                      31.0  Abuse of Authority           2017             5   \n",
       "\n",
       "   same_ethnicity  is_male  is_old  \n",
       "0               0        0     0.0  \n",
       "1               0        1     0.0  \n",
       "2               0        1     0.0  \n",
       "3               0        1     1.0  \n",
       "5               0        1     0.0  "
      ]
     },
     "execution_count": 494,
     "metadata": {},
     "output_type": "execute_result"
    }
   ],
   "source": [
    "# Assigning everyone a label of wheter or not they are older than 40\n",
    "perm = final_df.assign(is_old = (train_df1['complainant_age_incident'] > 40).astype(int))\n",
    "perm.head()"
   ]
  },
  {
   "cell_type": "code",
   "execution_count": 495,
   "metadata": {},
   "outputs": [
    {
     "data": {
      "text/plain": [
       "0.0690154092542502"
      ]
     },
     "execution_count": 495,
     "metadata": {},
     "output_type": "execute_result"
    }
   ],
   "source": [
    "young = perm[perm['is_old'] == 0]\n",
    "# Calculating R^2 of young subset\n",
    "real_young = pp.score(young.drop(['is_old','months_apart'],axis=1),young.months_apart)\n",
    "real_young"
   ]
  },
  {
   "cell_type": "code",
   "execution_count": 496,
   "metadata": {},
   "outputs": [
    {
     "data": {
      "text/plain": [
       "0.05213419297341415"
      ]
     },
     "execution_count": 496,
     "metadata": {},
     "output_type": "execute_result"
    }
   ],
   "source": [
    "old = perm[perm['is_old'] == 1]\n",
    "# Calculating R^2 of old subset\n",
    "real_old = pp.score(old.drop(['is_old','months_apart'],axis=1),old.months_apart)\n",
    "real_old"
   ]
  },
  {
   "cell_type": "code",
   "execution_count": 497,
   "metadata": {},
   "outputs": [
    {
     "data": {
      "text/plain": [
       "0.016881216280836053"
      ]
     },
     "execution_count": 497,
     "metadata": {},
     "output_type": "execute_result"
    }
   ],
   "source": [
    "# Difference in R^2's\n",
    "obs = real_young - real_old\n",
    "obs"
   ]
  },
  {
   "cell_type": "code",
   "execution_count": 498,
   "metadata": {},
   "outputs": [
    {
     "data": {
      "text/plain": [
       "<AxesSubplot:ylabel='Frequency'>"
      ]
     },
     "execution_count": 498,
     "metadata": {},
     "output_type": "execute_result"
    },
    {
     "data": {
      "image/png": "[encoded data removed]",
      "text/plain": [
       "<Figure size 432x288 with 1 Axes>"
      ]
     },
     "metadata": {
      "image/png": {
       "height": 248,
       "width": 388
      },
      "needs_background": "light"
     },
     "output_type": "display_data"
    }
   ],
   "source": [
    "# List for keeping track of differences\n",
    "diff = []\n",
    "for _ in range(1000):\n",
    "    # Shuffling labels\n",
    "    shuffled_df = perm.assign(shuffled = perm['is_old'].sample(replace=True,frac=1).reset_index(drop=True))\n",
    "    # Obtaining new dataframes of young and old people\n",
    "    young_random = shuffled_df[shuffled_df['shuffled'] == 0]\n",
    "    old_random = shuffled_df[shuffled_df['shuffled'] == 1]\n",
    "    # Calculating R^2f for new subsets\n",
    "    young_r  = pp.score(young_random.drop(['is_old','shuffled','months_apart'],axis=1) , young_random.months_apart)\n",
    "    old_r  = pp.score(old_random.drop(['is_old','shuffled','months_apart'],axis=1) , old_random.months_apart)\n",
    "    # Appending difference between R^2's\n",
    "    diff.append(young_r - old_r)\n",
    "pd.Series(diff).plot(kind='hist')"
   ]
  },
  {
   "cell_type": "code",
   "execution_count": 499,
   "metadata": {
    "scrolled": true
   },
   "outputs": [
    {
     "data": {
      "text/plain": [
       "0.019"
      ]
     },
     "execution_count": 499,
     "metadata": {},
     "output_type": "execute_result"
    }
   ],
   "source": [
    "# P-Value\n",
    "np.count_nonzero(diff >= obs) / 1000"
   ]
  },
  {
   "cell_type": "markdown",
   "metadata": {},
   "source": [
    "As we can see above, the p-value I obtained is 0.019. If I compare that to the significance level I proposed in the beginning, we see that .019 > 0.01. Normally when the p-value is larger than the significance level, we state that we fail to reject the null hypothesis, however, since the difference is very small I cannot be 100% certain that this is the case. In order to be certain the model is fair I would need to collect more data and create more tests. All in all, it seems that the model is fair, but I cannot make a definitive conclusion with the given results."
   ]
  }
 ],
 "metadata": {
  "kernelspec": {
   "display_name": "Python 3",
   "language": "python",
   "name": "python3"
  },
  "language_info": {
   "codemirror_mode": {
    "name": "ipython",
    "version": 3
   },
   "file_extension": ".py",
   "mimetype": "text/x-python",
   "name": "python",
   "nbconvert_exporter": "python",
   "pygments_lexer": "ipython3",
   "version": "3.8.8"
  }
 },
 "nbformat": 4,
 "nbformat_minor": 2
}
